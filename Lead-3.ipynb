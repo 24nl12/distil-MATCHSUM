{
 "cells": [
  {
   "cell_type": "code",
   "execution_count": 21,
   "id": "3c34745e",
   "metadata": {},
   "outputs": [],
   "source": [
    "from summarizer import Summarizer\n",
    "import Levenshtein as lev\n",
    "import nltk.data\n",
    "import json\n",
    "import re\n",
    "import pandas as pd\n",
    "from nltk.tokenize import sent_tokenize"
   ]
  },
  {
   "cell_type": "code",
   "execution_count": 32,
   "id": "b2cc7d0b",
   "metadata": {},
   "outputs": [],
   "source": [
    "def lead_3(text):\n",
    "    return \" \".join(sent_tokenize(text)[:3])"
   ]
  },
  {
   "cell_type": "code",
   "execution_count": 33,
   "id": "18bc2b54",
   "metadata": {},
   "outputs": [],
   "source": [
    "def load_jsonl(data_path):\n",
    "    data = []\n",
    "    with open(data_path) as f:\n",
    "        for line in f:\n",
    "            data.append(json.loads(line))\n",
    "    return data"
   ]
  },
  {
   "cell_type": "code",
   "execution_count": 55,
   "id": "a8496fa4",
   "metadata": {},
   "outputs": [],
   "source": [
    "reddit_data = load_jsonl(\"reddit_data/reddit_100.jsonl\")\n",
    "reddit_data \n",
    "lead3 = []\n",
    "for textAndSum in reddit_data:\n",
    "    pair = {}\n",
    "    pair[\"text\"] = textAndSum[\"text\"]\n",
    "    pair[\"summary\"] = lead_3(textAndSum[\"text\"])\n",
    "    lead3.append(pair)"
   ]
  },
  {
   "cell_type": "code",
   "execution_count": 57,
   "id": "dfa504a2",
   "metadata": {},
   "outputs": [],
   "source": [
    "df_lead3 = pd.DataFrame(lead3, columns=['text','summary'])\n",
    "df_lead3.to_json(\"reddit_data/lead3_100.jsonl\", orient='records', lines=True)"
   ]
  }
 ],
 "metadata": {
  "kernelspec": {
   "display_name": "Python [conda env:cs375] *",
   "language": "python",
   "name": "conda-env-cs375-py"
  },
  "language_info": {
   "codemirror_mode": {
    "name": "ipython",
    "version": 3
   },
   "file_extension": ".py",
   "mimetype": "text/x-python",
   "name": "python",
   "nbconvert_exporter": "python",
   "pygments_lexer": "ipython3",
   "version": "3.8.16"
  }
 },
 "nbformat": 4,
 "nbformat_minor": 5
}
