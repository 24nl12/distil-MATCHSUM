{
 "cells": [
  {
   "cell_type": "code",
   "execution_count": 26,
   "id": "fb52f9ba",
   "metadata": {},
   "outputs": [],
   "source": [
    "import torch\n",
    "import json\n",
    "from transformers import AutoTokenizer, DistilBertForSequenceClassification"
   ]
  },
  {
   "cell_type": "code",
   "execution_count": 27,
   "id": "e1593d4f",
   "metadata": {},
   "outputs": [],
   "source": [
    "def load_jsonl(data_path):\n",
    "    data = []\n",
    "    with open(data_path) as f:\n",
    "        for line in f:\n",
    "            data.append(json.loads(line))\n",
    "    return data"
   ]
  },
  {
   "cell_type": "code",
   "execution_count": 54,
   "id": "add0ff67",
   "metadata": {},
   "outputs": [
    {
     "name": "stdout",
     "output_type": "stream",
     "text": [
      "<class 'list'>\n"
     ]
    }
   ],
   "source": [
    "bert_model = AutoTokenizer.from_pretrained(\"distilbert-base-uncased\")\n",
    "train_data = load_jsonl(\"reddit_data/reddit_cands_100.jsonl\")\n",
    "# print(train_data)\n",
    "print(type(train_data))\n",
    "# print(train_data[0])\n",
    "# print(data[0].get(\"text\"))"
   ]
  },
  {
   "cell_type": "code",
   "execution_count": 55,
   "id": "2a036b64",
   "metadata": {},
   "outputs": [],
   "source": [
    "# text_list = []\n",
    "# for entry in train_data:\n",
    "#     text_list += entry['text']\n",
    "# print(len(text_list))\n",
    "\n",
    "text_list = [entry['text'] for entry in train_data]"
   ]
  },
  {
   "cell_type": "code",
   "execution_count": 56,
   "id": "74ce9a52",
   "metadata": {},
   "outputs": [],
   "source": [
    "class MatchSum(nn.Module):\n",
    "    def __init__(self, candidate_num, encoder, hidden_size=768):\n",
    "        super().__init()\n",
    "        self.encoder = AutoTokenizer.from_pretrained(\"distilbert-base-uncased\")\n",
    "        \n",
    "        self.hidden_size = hidden_size\n",
    "        self.candidate_num  = candidate_num\n",
    "        \n",
    "    def forward(self, dataset):\n",
    "        batch_size = 10\n",
    "        pad_id = 0\n",
    "        \n",
    "        # extract text_id, summary_id, candidate_id from dataset\n",
    "        text_id = [entry['text'] for entry in dataset]\n",
    "        summary_id = [entry['summary'] for entry in dataset]\n",
    "        candidate_id = [entry['idx'] for entry in dataset]\n",
    "        \n",
    "        \n",
    "        # get document embedding\n",
    "        input_mask = ~(text_id == pad_id)\n",
    "        out = bert_model(text_id, attention_mask=input_mask)[0] # last layer\n",
    "        doc_emb = out[:, 0, :]\n",
    "        assert doc_emb.size() == (batch_size, self.hidden_size) # [batch_size, hidden_size]\n",
    "\n",
    "        # get summary embedding\n",
    "        input_mask = ~(summary_id == pad_id)\n",
    "        out = bert_model(summary_id, attention_mask=input_mask)[0] # last layer\n",
    "        summary_emb = out[:, 0, :]\n",
    "        assert summary_emb.size() == (batch_size, self.hidden_size) # [batch_size, hidden_size]\n",
    "\n",
    "        # get summary score\n",
    "        summary_score = torch.cosine_similarity(summary_emb, doc_emb, dim=-1)\n",
    "\n",
    "        # get candidate embedding\n",
    "        candidate_num = candidate_id.size(1)\n",
    "        candidate_id = candidate_id.view(-1, candidate_id.size(-1))\n",
    "        input_mask = ~(candidate_id == pad_id)\n",
    "        out = bert_model(candidate_id, attention_mask=input_mask)[0]\n",
    "        candidate_emb = out[:, 0, :].view(batch_size, candidate_num, self.hidden_size)  # [batch_size, candidate_num, hidden_size]\n",
    "        assert candidate_emb.size() == (batch_size, candidate_num, self.hidden_size)\n",
    "\n",
    "        # get candidate score\n",
    "        doc_emb = doc_emb.unsqueeze(1).expand_as(candidate_emb)\n",
    "        cand_score = torch.cosine_similarity(candidate_emb, doc_emb, dim=-1) # [batch_size, candidate_num]\n",
    "        assert cand_score.size() == (batch_size, candidate_num)\n",
    "\n",
    "        return {'cand_score': cand_score, 'summary_score': summary_score }\n",
    "    \n",
    "    \n",
    "    def train_model(self, train_data, num_iterations, batch_size = 10):\n",
    "        \n",
    "        self.train()\n",
    "        \n",
    "        for t in range(num_iterations):\n",
    "            if batch_size >= len(train_data):\n",
    "                batch = train_data\n",
    "            else:\n",
    "                batch_indices = np.random.randint(len(train_data), size=batch_size)\n",
    "                batch = train_data[batch_indices]\n",
    "        \n",
    "        scores = self.forward(batch)\n",
    "        "
   ]
  },
  {
   "cell_type": "code",
   "execution_count": 18,
   "id": "06077d72",
   "metadata": {
    "scrolled": true
   },
   "outputs": [],
   "source": []
  },
  {
   "cell_type": "code",
   "execution_count": 3,
   "id": "7c7e3b72",
   "metadata": {},
   "outputs": [],
   "source": []
  },
  {
   "cell_type": "code",
   "execution_count": null,
   "id": "ed009437",
   "metadata": {},
   "outputs": [],
   "source": []
  }
 ],
 "metadata": {
  "kernelspec": {
   "display_name": "Python [conda env:cs375] *",
   "language": "python",
   "name": "conda-env-cs375-py"
  },
  "language_info": {
   "codemirror_mode": {
    "name": "ipython",
    "version": 3
   },
   "file_extension": ".py",
   "mimetype": "text/x-python",
   "name": "python",
   "nbconvert_exporter": "python",
   "pygments_lexer": "ipython3",
   "version": "3.8.16"
  }
 },
 "nbformat": 4,
 "nbformat_minor": 5
}
