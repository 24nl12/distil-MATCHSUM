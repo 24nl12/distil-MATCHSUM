{
 "cells": [
  {
   "cell_type": "code",
   "execution_count": 59,
   "id": "33c69bd5",
   "metadata": {},
   "outputs": [],
   "source": [
    "from rouge_score import rouge_scorer\n",
    "from itertools import combinations\n",
    "import json\n",
    "import pandas as pd"
   ]
  },
  {
   "cell_type": "code",
   "execution_count": 39,
   "id": "8fcf302a",
   "metadata": {},
   "outputs": [],
   "source": [
    "def load_jsonl(data_path):\n",
    "    data = []\n",
    "    with open(data_path) as f:\n",
    "        for line in f:\n",
    "            data.append(json.loads(line))\n",
    "    return data"
   ]
  },
  {
   "cell_type": "code",
   "execution_count": 41,
   "id": "1c73e1b4",
   "metadata": {},
   "outputs": [],
   "source": [
    "data = load_jsonl(\"reddit_data/reddit_cands_100.jsonl\")"
   ]
  },
  {
   "cell_type": "code",
   "execution_count": 8,
   "id": "ea30de8c",
   "metadata": {},
   "outputs": [],
   "source": [
    "temp = data[0]"
   ]
  },
  {
   "cell_type": "code",
   "execution_count": 36,
   "id": "9a57dbf0",
   "metadata": {},
   "outputs": [],
   "source": [
    "scorer = rouge_scorer.RougeScorer(['rouge1', 'rouge2', 'rougeL'], use_stemmer=True)\n",
    "scores = scorer.score(cands[0], temp['summary'])\n",
    "score = sum([s.fmeasure for s in score.values()]) / 3"
   ]
  },
  {
   "cell_type": "code",
   "execution_count": 37,
   "id": "e82f1d04",
   "metadata": {},
   "outputs": [
    {
     "data": {
      "text/plain": [
       "0.11965811965811968"
      ]
     },
     "execution_count": 37,
     "metadata": {},
     "output_type": "execute_result"
    }
   ],
   "source": [
    "score"
   ]
  },
  {
   "cell_type": "code",
   "execution_count": 38,
   "id": "c21d77ab",
   "metadata": {},
   "outputs": [
    {
     "data": {
      "text/plain": [
       "{'rouge1': Score(precision=0.4, recall=0.13793103448275862, fmeasure=0.20512820512820515),\n",
       " 'rouge2': Score(precision=0.0, recall=0.0, fmeasure=0.0),\n",
       " 'rougeL': Score(precision=0.3, recall=0.10344827586206896, fmeasure=0.15384615384615385)}"
      ]
     },
     "execution_count": 38,
     "metadata": {},
     "output_type": "execute_result"
    }
   ],
   "source": [
    "scores"
   ]
  },
  {
   "cell_type": "code",
   "execution_count": 62,
   "id": "655e7c64",
   "metadata": {},
   "outputs": [],
   "source": [
    "scorer = rouge_scorer.RougeScorer(['rouge1', 'rouge2', 'rougeL'], use_stemmer=True)"
   ]
  },
  {
   "cell_type": "code",
   "execution_count": 63,
   "id": "57d10302",
   "metadata": {},
   "outputs": [],
   "source": [
    "for entry in data:\n",
    "    cands = list(combinations(entry['idx'], 2))\n",
    "    cands += list(combinations(entry['idx'], 3))\n",
    "    cands = [' '.join(tup) for tup in cands]\n",
    "    scores = []\n",
    "    for cand in cands:\n",
    "        rouge_scores = scorer.score(cand, entry['summary'])\n",
    "        score = sum([s.fmeasure for s in rouge_scores.values()]) / 3\n",
    "        scores.append((cand, score))\n",
    "    scores.sort(key=lambda x : x[1], reverse=True)\n",
    "    entry['scores'] = scores"
   ]
  },
  {
   "cell_type": "code",
   "execution_count": 64,
   "id": "aa054a9b",
   "metadata": {},
   "outputs": [],
   "source": [
    "df_temp = pd.json_normalize(data)\n",
    "df_temp.to_json(\"reddit_data/reddit_rouge_100.jsonl\", orient='records', lines=True)"
   ]
  },
  {
   "cell_type": "code",
   "execution_count": null,
   "id": "f9c764a7",
   "metadata": {},
   "outputs": [],
   "source": []
  }
 ],
 "metadata": {
  "kernelspec": {
   "display_name": "Python [conda env:cs375] *",
   "language": "python",
   "name": "conda-env-cs375-py"
  },
  "language_info": {
   "codemirror_mode": {
    "name": "ipython",
    "version": 3
   },
   "file_extension": ".py",
   "mimetype": "text/x-python",
   "name": "python",
   "nbconvert_exporter": "python",
   "pygments_lexer": "ipython3",
   "version": "3.8.16"
  }
 },
 "nbformat": 4,
 "nbformat_minor": 5
}
