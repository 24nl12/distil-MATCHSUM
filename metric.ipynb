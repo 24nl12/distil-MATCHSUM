{
 "cells": [
  {
   "cell_type": "code",
   "execution_count": 8,
   "id": "80c36dc9",
   "metadata": {},
   "outputs": [],
   "source": [
    "import nltk.data\n",
    "import re\n",
    "import pandas as pd\n",
    "from nltk.tokenize import sent_tokenize\n",
    "import numpy as np\n",
    "import torch\n",
    "import json\n",
    "from sentence_transformers import SentenceTransformer"
   ]
  },
  {
   "cell_type": "code",
   "execution_count": 89,
   "id": "32753d21",
   "metadata": {},
   "outputs": [],
   "source": [
    "def load_jsonl(data_path):\n",
    "    data = []\n",
    "    with open(data_path) as f:\n",
    "        for line in f:\n",
    "            data.append(json.loads(line))\n",
    "    return data\n",
    "model = SentenceTransformer('all-MiniLM-L6-v2')"
   ]
  },
  {
   "cell_type": "code",
   "execution_count": 103,
   "id": "aec837b6",
   "metadata": {},
   "outputs": [],
   "source": [
    "data = load_jsonl(\"reddit_data/reddit_rouge_100.jsonl\")\n",
    "loss = []\n",
    "for example in data:\n",
    "    cand_loss = []\n",
    "    doc = example['text']\n",
    "    doc_tokens = sent_tokenize(doc)\n",
    "    sentence_embeddings = model.encode(doc_tokens)\n",
    "    doc_embedding = np.mean(sentence_embeddings,-2)\n",
    "    \n",
    "    gold_summary = example['summary']\n",
    "    gold_tokens = sent_tokenize(gold_summary)\n",
    "    gold_sent_embeddings = model.encode(gold_tokens)\n",
    "    gold_embedding = np.mean(gold_sent_embeddings,-2)\n",
    "    \n",
    "    cos1 = torch.nn.CosineSimilarity(doc_embedding, gold_embedding)\n",
    "    for summaries in example['scores']:\n",
    "        summary_tokens = sent_tokenize(summaries[0])\n",
    "        summary_sent_embeddings = model.encode(summary_tokens)\n",
    "        summary_embedding = np.mean(summary_sent_embeddings,-2)\n",
    "        \n",
    "        cos2 = torch.nn.CosineSimilarity(doc_embedding, summary_embedding)\n",
    "        \n",
    "        "
   ]
  },
  {
   "cell_type": "code",
   "execution_count": 102,
   "id": "51fa8aee",
   "metadata": {},
   "outputs": [
    {
     "data": {
      "text/plain": [
       "\"i grew up in germany where i went to a german secondary school that went from 5th to 13th grade (we still had 13 grades then, they have since changed that). basically a day where the students' classes are cancelled and instead we give them an interactive history and social studies class with lots of activities and games.\""
      ]
     },
     "execution_count": 102,
     "metadata": {},
     "output_type": "execute_result"
    }
   ],
   "source": []
  },
  {
   "cell_type": "code",
   "execution_count": null,
   "id": "9204af7b",
   "metadata": {},
   "outputs": [],
   "source": []
  }
 ],
 "metadata": {
  "kernelspec": {
   "display_name": "Python [conda env:cs375] *",
   "language": "python",
   "name": "conda-env-cs375-py"
  },
  "language_info": {
   "codemirror_mode": {
    "name": "ipython",
    "version": 3
   },
   "file_extension": ".py",
   "mimetype": "text/x-python",
   "name": "python",
   "nbconvert_exporter": "python",
   "pygments_lexer": "ipython3",
   "version": "3.8.16"
  }
 },
 "nbformat": 4,
 "nbformat_minor": 5
}
