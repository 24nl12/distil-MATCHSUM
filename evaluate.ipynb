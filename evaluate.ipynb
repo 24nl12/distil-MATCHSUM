{
 "cells": [
  {
   "cell_type": "code",
   "execution_count": 1,
   "id": "91c65592",
   "metadata": {},
   "outputs": [],
   "source": [
    "from rouge_score import rouge_scorer\n",
    "from operator import add\n",
    "import json\n",
    "import pandas as pd\n",
    "import nltk.data\n",
    "import numpy as np"
   ]
  },
  {
   "cell_type": "code",
   "execution_count": 2,
   "id": "7bc01b8c",
   "metadata": {},
   "outputs": [],
   "source": [
    "def load_jsonl(data_path):\n",
    "    data = []\n",
    "    with open(data_path) as f:\n",
    "        for line in f:\n",
    "            data.append(json.loads(line))\n",
    "    return data"
   ]
  },
  {
   "cell_type": "code",
   "execution_count": 3,
   "id": "eff8d8be",
   "metadata": {},
   "outputs": [],
   "source": [
    "textrank = pd.read_csv(\"textRank_summaries.csv\")"
   ]
  },
  {
   "cell_type": "code",
   "execution_count": 4,
   "id": "0de8301c",
   "metadata": {},
   "outputs": [],
   "source": [
    "textrank.drop(columns=\"Unnamed: 0\", inplace=True)"
   ]
  },
  {
   "cell_type": "code",
   "execution_count": 5,
   "id": "888d07cd",
   "metadata": {},
   "outputs": [],
   "source": [
    "cands = load_jsonl(\"reddit_data/reddit_rouge_100.jsonl\")"
   ]
  },
  {
   "cell_type": "code",
   "execution_count": 6,
   "id": "446f9711",
   "metadata": {},
   "outputs": [],
   "source": [
    "cands = pd.json_normalize(cands)"
   ]
  },
  {
   "cell_type": "code",
   "execution_count": 7,
   "id": "ba3d820d",
   "metadata": {},
   "outputs": [],
   "source": [
    "df = textrank.merge(cands, on=\"text\", how=\"left\")"
   ]
  },
  {
   "cell_type": "code",
   "execution_count": 8,
   "id": "878c4a94",
   "metadata": {},
   "outputs": [],
   "source": [
    "def join_list(lst):\n",
    "    return ' '.join(lst)"
   ]
  },
  {
   "cell_type": "code",
   "execution_count": 9,
   "id": "d13035e2",
   "metadata": {},
   "outputs": [],
   "source": [
    "df['bert_summary'] = df['idx'].apply(join_list)"
   ]
  },
  {
   "cell_type": "code",
   "execution_count": 10,
   "id": "d2c5926a",
   "metadata": {},
   "outputs": [],
   "source": [
    "tokenizer = nltk.data.load('nltk:tokenizers/punkt/english.pickle')\n",
    "def lead3(sent):\n",
    "    return ' '.join(tokenizer.tokenize(sent)[:3])"
   ]
  },
  {
   "cell_type": "code",
   "execution_count": 11,
   "id": "32cac62c",
   "metadata": {},
   "outputs": [],
   "source": [
    "df['lead3'] = df['text'].apply(lead3)"
   ]
  },
  {
   "cell_type": "code",
   "execution_count": 12,
   "id": "09047e01",
   "metadata": {},
   "outputs": [],
   "source": [
    "df.drop(columns=[\"summary\", \"scores\", \"idx\"], inplace=True)"
   ]
  },
  {
   "cell_type": "code",
   "execution_count": 13,
   "id": "1c7efa8b",
   "metadata": {},
   "outputs": [],
   "source": [
    "matchsum = load_jsonl(\"reddit_data/matchsum_100.jsonl\")"
   ]
  },
  {
   "cell_type": "code",
   "execution_count": 14,
   "id": "13763b75",
   "metadata": {},
   "outputs": [],
   "source": [
    "matchsum = pd.json_normalize(matchsum)"
   ]
  },
  {
   "cell_type": "code",
   "execution_count": 15,
   "id": "fea0a01c",
   "metadata": {},
   "outputs": [],
   "source": [
    "df = df.merge(matchsum, on=\"text\", how=\"left\")"
   ]
  },
  {
   "cell_type": "code",
   "execution_count": 16,
   "id": "9bad9134",
   "metadata": {},
   "outputs": [],
   "source": [
    "df.columns = ['text', 'gold_summary', 'text_rank', 'bert_summary', 'lead3',\n",
    "       'matchsum']"
   ]
  },
  {
   "cell_type": "code",
   "execution_count": 17,
   "id": "d34c5c51",
   "metadata": {},
   "outputs": [],
   "source": [
    "df.to_json(\"reddit_data/all_summaries.jsonl\", orient='records', lines=True)"
   ]
  },
  {
   "cell_type": "code",
   "execution_count": 18,
   "id": "133deae1",
   "metadata": {},
   "outputs": [],
   "source": [
    "data = load_jsonl(\"reddit_data/all_summaries.jsonl\")"
   ]
  },
  {
   "cell_type": "code",
   "execution_count": 19,
   "id": "e8f2120b",
   "metadata": {},
   "outputs": [],
   "source": [
    "scorer = rouge_scorer.RougeScorer(['rouge1', 'rouge2', 'rougeL'], use_stemmer=True)"
   ]
  },
  {
   "cell_type": "code",
   "execution_count": 20,
   "id": "30c0eb71",
   "metadata": {},
   "outputs": [],
   "source": [
    "def calc_rouge(cand, gold):\n",
    "    scores = scorer.score(cand, gold)\n",
    "    return [s.fmeasure for s in scores.values()]"
   ]
  },
  {
   "cell_type": "code",
   "execution_count": 21,
   "id": "e1db74d4",
   "metadata": {},
   "outputs": [],
   "source": [
    "for i in data:\n",
    "    if type(i['matchsum']) != str:\n",
    "        i['matchsum'] = i['matchsum'][0]"
   ]
  },
  {
   "cell_type": "code",
   "execution_count": 22,
   "id": "ca8885bc",
   "metadata": {},
   "outputs": [],
   "source": [
    "text_rank = [0] * 3\n",
    "bert = [0] * 3\n",
    "lead3 = [0] * 3\n",
    "matchsum = [0] * 3\n",
    "\n",
    "for entry in data:\n",
    "    text_rank = list(map(add, text_rank, calc_rouge(entry['text_rank'], entry['gold_summary'])))\n",
    "    bert = list(map(add, bert, calc_rouge(entry['bert_summary'], entry['gold_summary'])))\n",
    "    lead3 = list(map(add, lead3, calc_rouge(entry['lead3'], entry['gold_summary'])))\n",
    "    matchsum = list(map(add, matchsum, calc_rouge(entry['matchsum'], entry['gold_summary'])))\n",
    "    \n",
    "text_rank = [round(x, 3) for x in text_rank]\n",
    "bert = [round(x, 3) for x in bert]\n",
    "lead3 = [round(x, 3) for x in lead3]\n",
    "matchsum = [round(x, 3) for x in matchsum]"
   ]
  },
  {
   "cell_type": "code",
   "execution_count": 23,
   "id": "46b4b8a3",
   "metadata": {},
   "outputs": [
    {
     "name": "stdout",
     "output_type": "stream",
     "text": [
      "[16.966, 2.547, 11.154]\n",
      "[18.998, 3.322, 13.017]\n",
      "[15.298, 3.149, 10.29]\n",
      "[17.311, 2.667, 12.607]\n"
     ]
    }
   ],
   "source": [
    "print(lead3)\n",
    "print(text_rank)\n",
    "print(bert)\n",
    "print(matchsum)"
   ]
  },
  {
   "cell_type": "code",
   "execution_count": null,
   "id": "ae2c462d",
   "metadata": {},
   "outputs": [],
   "source": []
  }
 ],
 "metadata": {
  "kernelspec": {
   "display_name": "Python [conda env:cs375] *",
   "language": "python",
   "name": "conda-env-cs375-py"
  },
  "language_info": {
   "codemirror_mode": {
    "name": "ipython",
    "version": 3
   },
   "file_extension": ".py",
   "mimetype": "text/x-python",
   "name": "python",
   "nbconvert_exporter": "python",
   "pygments_lexer": "ipython3",
   "version": "3.8.16"
  }
 },
 "nbformat": 4,
 "nbformat_minor": 5
}
