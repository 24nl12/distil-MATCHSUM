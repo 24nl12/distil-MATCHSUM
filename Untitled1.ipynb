{
 "cells": [
  {
   "cell_type": "code",
   "execution_count": 11,
   "id": "8b038639",
   "metadata": {},
   "outputs": [],
   "source": [
    "import pandas as pd\n",
    "import json\n",
    "from datasets import load_dataset"
   ]
  },
  {
   "cell_type": "code",
   "execution_count": 2,
   "id": "bc8afdfc",
   "metadata": {},
   "outputs": [
    {
     "name": "stdout",
     "output_type": "stream",
     "text": [
      "Downloading and preparing dataset reddit_tifu/long to /Users/karthiksubbiah/.cache/huggingface/datasets/reddit_tifu/long/1.1.0/1c73fb08807b54ec26b025829b2a3d90c6f7466dac20801c825571af9514c049...\n"
     ]
    },
    {
     "data": {
      "application/vnd.jupyter.widget-view+json": {
       "model_id": "e908f55f43574abda54ae289cb360e01",
       "version_major": 2,
       "version_minor": 0
      },
      "text/plain": [
       "Downloading data:   0%|          | 0.00/671M [00:00<?, ?B/s]"
      ]
     },
     "metadata": {},
     "output_type": "display_data"
    },
    {
     "data": {
      "application/vnd.jupyter.widget-view+json": {
       "model_id": "",
       "version_major": 2,
       "version_minor": 0
      },
      "text/plain": [
       "Generating train split:   0%|          | 0/42139 [00:00<?, ? examples/s]"
      ]
     },
     "metadata": {},
     "output_type": "display_data"
    },
    {
     "name": "stdout",
     "output_type": "stream",
     "text": [
      "Dataset reddit_tifu downloaded and prepared to /Users/karthiksubbiah/.cache/huggingface/datasets/reddit_tifu/long/1.1.0/1c73fb08807b54ec26b025829b2a3d90c6f7466dac20801c825571af9514c049. Subsequent calls will reuse this data.\n"
     ]
    },
    {
     "data": {
      "application/vnd.jupyter.widget-view+json": {
       "model_id": "f1d95ea2622b49b5b3863b36f56f656e",
       "version_major": 2,
       "version_minor": 0
      },
      "text/plain": [
       "  0%|          | 0/1 [00:00<?, ?it/s]"
      ]
     },
     "metadata": {},
     "output_type": "display_data"
    }
   ],
   "source": [
    "data = load_dataset(\"reddit_tifu\", \"long\")"
   ]
  },
  {
   "cell_type": "code",
   "execution_count": 9,
   "id": "6a62eba3",
   "metadata": {},
   "outputs": [],
   "source": [
    "df = pd.DataFrame(data)"
   ]
  },
  {
   "cell_type": "code",
   "execution_count": 20,
   "id": "bdb15149",
   "metadata": {},
   "outputs": [],
   "source": [
    "df1 = pd.json_normalize(df.train)"
   ]
  },
  {
   "cell_type": "code",
   "execution_count": 22,
   "id": "69954410",
   "metadata": {},
   "outputs": [
    {
     "data": {
      "text/html": [
       "<div>\n",
       "<style scoped>\n",
       "    .dataframe tbody tr th:only-of-type {\n",
       "        vertical-align: middle;\n",
       "    }\n",
       "\n",
       "    .dataframe tbody tr th {\n",
       "        vertical-align: top;\n",
       "    }\n",
       "\n",
       "    .dataframe thead th {\n",
       "        text-align: right;\n",
       "    }\n",
       "</style>\n",
       "<table border=\"1\" class=\"dataframe\">\n",
       "  <thead>\n",
       "    <tr style=\"text-align: right;\">\n",
       "      <th></th>\n",
       "      <th>ups</th>\n",
       "      <th>num_comments</th>\n",
       "      <th>upvote_ratio</th>\n",
       "      <th>score</th>\n",
       "      <th>documents</th>\n",
       "      <th>tldr</th>\n",
       "      <th>title</th>\n",
       "    </tr>\n",
       "  </thead>\n",
       "  <tbody>\n",
       "    <tr>\n",
       "      <th>0</th>\n",
       "      <td>115.0</td>\n",
       "      <td>23.0</td>\n",
       "      <td>0.88</td>\n",
       "      <td>115.0</td>\n",
       "      <td>this actually happened a couple of years ago. ...</td>\n",
       "      <td>confuse a 5th grade girl for a boy in front of...</td>\n",
       "      <td>gender-stereotyping</td>\n",
       "    </tr>\n",
       "    <tr>\n",
       "      <th>1</th>\n",
       "      <td>16.0</td>\n",
       "      <td>12.0</td>\n",
       "      <td>0.79</td>\n",
       "      <td>16.0</td>\n",
       "      <td>it was last october, but i'm feeling the fall-...</td>\n",
       "      <td>i found my estranged dad, thought i loved him ...</td>\n",
       "      <td>telling my dad that i love him.</td>\n",
       "    </tr>\n",
       "    <tr>\n",
       "      <th>2</th>\n",
       "      <td>55.0</td>\n",
       "      <td>10.0</td>\n",
       "      <td>0.85</td>\n",
       "      <td>55.0</td>\n",
       "      <td>so i had the brilliant idea to use veet hair r...</td>\n",
       "      <td>had my balls burned by sauron and was left dev...</td>\n",
       "      <td>i was deveeted...</td>\n",
       "    </tr>\n",
       "    <tr>\n",
       "      <th>3</th>\n",
       "      <td>90.0</td>\n",
       "      <td>20.0</td>\n",
       "      <td>0.92</td>\n",
       "      <td>90.0</td>\n",
       "      <td>today i was going to have a bath after a long ...</td>\n",
       "      <td>peppermint + bath = burning cold ladybits.</td>\n",
       "      <td>wanting a pepperminty bath.</td>\n",
       "    </tr>\n",
       "    <tr>\n",
       "      <th>4</th>\n",
       "      <td>81.0</td>\n",
       "      <td>18.0</td>\n",
       "      <td>0.79</td>\n",
       "      <td>81.0</td>\n",
       "      <td>i haven't had a bath in practically years so, ...</td>\n",
       "      <td>got too high and too hot in the bath, almost c...</td>\n",
       "      <td>having a spliff in the bath.</td>\n",
       "    </tr>\n",
       "    <tr>\n",
       "      <th>...</th>\n",
       "      <td>...</td>\n",
       "      <td>...</td>\n",
       "      <td>...</td>\n",
       "      <td>...</td>\n",
       "      <td>...</td>\n",
       "      <td>...</td>\n",
       "      <td>...</td>\n",
       "    </tr>\n",
       "    <tr>\n",
       "      <th>42134</th>\n",
       "      <td>105.0</td>\n",
       "      <td>18.0</td>\n",
       "      <td>0.94</td>\n",
       "      <td>105.0</td>\n",
       "      <td>this happened back in middle school.\\n\\nmy fam...</td>\n",
       "      <td>forgot my quarter for lunch at school for a we...</td>\n",
       "      <td>forgetting my quarter for lunch</td>\n",
       "    </tr>\n",
       "    <tr>\n",
       "      <th>42135</th>\n",
       "      <td>96.0</td>\n",
       "      <td>64.0</td>\n",
       "      <td>0.92</td>\n",
       "      <td>96.0</td>\n",
       "      <td>my girlfriend told me she has no hair beneath ...</td>\n",
       "      <td>girlfriend prefers clean shaven groin. i try t...</td>\n",
       "      <td>trying to shave my pubes for the first time</td>\n",
       "    </tr>\n",
       "    <tr>\n",
       "      <th>42136</th>\n",
       "      <td>726.0</td>\n",
       "      <td>110.0</td>\n",
       "      <td>0.91</td>\n",
       "      <td>726.0</td>\n",
       "      <td>today at work i accidentally crashed a row of ...</td>\n",
       "      <td>today i broke a window that costs more then i ...</td>\n",
       "      <td>breaking a $900 window with a shopping cart.</td>\n",
       "    </tr>\n",
       "    <tr>\n",
       "      <th>42137</th>\n",
       "      <td>26.0</td>\n",
       "      <td>5.0</td>\n",
       "      <td>0.77</td>\n",
       "      <td>26.0</td>\n",
       "      <td>so as u can tell from the title it didn't happ...</td>\n",
       "      <td>i invited over new girlfriend for dinner to sp...</td>\n",
       "      <td>slicing open my finger on first valentines wit...</td>\n",
       "    </tr>\n",
       "    <tr>\n",
       "      <th>42138</th>\n",
       "      <td>15.0</td>\n",
       "      <td>11.0</td>\n",
       "      <td>0.81</td>\n",
       "      <td>15.0</td>\n",
       "      <td>this did actually happen today. it started aft...</td>\n",
       "      <td>in a rush i mixed my colours in the wash and e...</td>\n",
       "      <td>not listening to my mother</td>\n",
       "    </tr>\n",
       "  </tbody>\n",
       "</table>\n",
       "<p>42139 rows × 7 columns</p>\n",
       "</div>"
      ],
      "text/plain": [
       "         ups  ...                                              title\n",
       "0      115.0  ...                                gender-stereotyping\n",
       "1       16.0  ...                    telling my dad that i love him.\n",
       "2       55.0  ...                                  i was deveeted...\n",
       "3       90.0  ...                        wanting a pepperminty bath.\n",
       "4       81.0  ...                       having a spliff in the bath.\n",
       "...      ...  ...                                                ...\n",
       "42134  105.0  ...                    forgetting my quarter for lunch\n",
       "42135   96.0  ...        trying to shave my pubes for the first time\n",
       "42136  726.0  ...       breaking a $900 window with a shopping cart.\n",
       "42137   26.0  ...  slicing open my finger on first valentines wit...\n",
       "42138   15.0  ...                         not listening to my mother\n",
       "\n",
       "[42139 rows x 7 columns]"
      ]
     },
     "execution_count": 22,
     "metadata": {},
     "output_type": "execute_result"
    }
   ],
   "source": [
    "df1"
   ]
  },
  {
   "cell_type": "code",
   "execution_count": 26,
   "id": "28b05626",
   "metadata": {},
   "outputs": [],
   "source": [
    "df2 = df1[['documents', 'tldr']]"
   ]
  },
  {
   "cell_type": "code",
   "execution_count": 27,
   "id": "d8b13533",
   "metadata": {},
   "outputs": [
    {
     "data": {
      "text/html": [
       "<div>\n",
       "<style scoped>\n",
       "    .dataframe tbody tr th:only-of-type {\n",
       "        vertical-align: middle;\n",
       "    }\n",
       "\n",
       "    .dataframe tbody tr th {\n",
       "        vertical-align: top;\n",
       "    }\n",
       "\n",
       "    .dataframe thead th {\n",
       "        text-align: right;\n",
       "    }\n",
       "</style>\n",
       "<table border=\"1\" class=\"dataframe\">\n",
       "  <thead>\n",
       "    <tr style=\"text-align: right;\">\n",
       "      <th></th>\n",
       "      <th>documents</th>\n",
       "      <th>tldr</th>\n",
       "    </tr>\n",
       "  </thead>\n",
       "  <tbody>\n",
       "    <tr>\n",
       "      <th>0</th>\n",
       "      <td>this actually happened a couple of years ago. ...</td>\n",
       "      <td>confuse a 5th grade girl for a boy in front of...</td>\n",
       "    </tr>\n",
       "    <tr>\n",
       "      <th>1</th>\n",
       "      <td>it was last october, but i'm feeling the fall-...</td>\n",
       "      <td>i found my estranged dad, thought i loved him ...</td>\n",
       "    </tr>\n",
       "    <tr>\n",
       "      <th>2</th>\n",
       "      <td>so i had the brilliant idea to use veet hair r...</td>\n",
       "      <td>had my balls burned by sauron and was left dev...</td>\n",
       "    </tr>\n",
       "    <tr>\n",
       "      <th>3</th>\n",
       "      <td>today i was going to have a bath after a long ...</td>\n",
       "      <td>peppermint + bath = burning cold ladybits.</td>\n",
       "    </tr>\n",
       "    <tr>\n",
       "      <th>4</th>\n",
       "      <td>i haven't had a bath in practically years so, ...</td>\n",
       "      <td>got too high and too hot in the bath, almost c...</td>\n",
       "    </tr>\n",
       "    <tr>\n",
       "      <th>...</th>\n",
       "      <td>...</td>\n",
       "      <td>...</td>\n",
       "    </tr>\n",
       "    <tr>\n",
       "      <th>42134</th>\n",
       "      <td>this happened back in middle school.\\n\\nmy fam...</td>\n",
       "      <td>forgot my quarter for lunch at school for a we...</td>\n",
       "    </tr>\n",
       "    <tr>\n",
       "      <th>42135</th>\n",
       "      <td>my girlfriend told me she has no hair beneath ...</td>\n",
       "      <td>girlfriend prefers clean shaven groin. i try t...</td>\n",
       "    </tr>\n",
       "    <tr>\n",
       "      <th>42136</th>\n",
       "      <td>today at work i accidentally crashed a row of ...</td>\n",
       "      <td>today i broke a window that costs more then i ...</td>\n",
       "    </tr>\n",
       "    <tr>\n",
       "      <th>42137</th>\n",
       "      <td>so as u can tell from the title it didn't happ...</td>\n",
       "      <td>i invited over new girlfriend for dinner to sp...</td>\n",
       "    </tr>\n",
       "    <tr>\n",
       "      <th>42138</th>\n",
       "      <td>this did actually happen today. it started aft...</td>\n",
       "      <td>in a rush i mixed my colours in the wash and e...</td>\n",
       "    </tr>\n",
       "  </tbody>\n",
       "</table>\n",
       "<p>42139 rows × 2 columns</p>\n",
       "</div>"
      ],
      "text/plain": [
       "                                               documents                                               tldr\n",
       "0      this actually happened a couple of years ago. ...  confuse a 5th grade girl for a boy in front of...\n",
       "1      it was last october, but i'm feeling the fall-...  i found my estranged dad, thought i loved him ...\n",
       "2      so i had the brilliant idea to use veet hair r...  had my balls burned by sauron and was left dev...\n",
       "3      today i was going to have a bath after a long ...         peppermint + bath = burning cold ladybits.\n",
       "4      i haven't had a bath in practically years so, ...  got too high and too hot in the bath, almost c...\n",
       "...                                                  ...                                                ...\n",
       "42134  this happened back in middle school.\\n\\nmy fam...  forgot my quarter for lunch at school for a we...\n",
       "42135  my girlfriend told me she has no hair beneath ...  girlfriend prefers clean shaven groin. i try t...\n",
       "42136  today at work i accidentally crashed a row of ...  today i broke a window that costs more then i ...\n",
       "42137  so as u can tell from the title it didn't happ...  i invited over new girlfriend for dinner to sp...\n",
       "42138  this did actually happen today. it started aft...  in a rush i mixed my colours in the wash and e...\n",
       "\n",
       "[42139 rows x 2 columns]"
      ]
     },
     "execution_count": 27,
     "metadata": {},
     "output_type": "execute_result"
    }
   ],
   "source": [
    "df2"
   ]
  },
  {
   "cell_type": "code",
   "execution_count": 30,
   "id": "6f2625b6",
   "metadata": {},
   "outputs": [],
   "source": [
    "df_100 = df2.head(100)"
   ]
  },
  {
   "cell_type": "code",
   "execution_count": 31,
   "id": "2cc32914",
   "metadata": {},
   "outputs": [],
   "source": [
    "df_1K = df2.head(1000)"
   ]
  },
  {
   "cell_type": "code",
   "execution_count": 32,
   "id": "6dcc7555",
   "metadata": {},
   "outputs": [],
   "source": [
    "df_100.to_csv(\"reddit_100.csv\")"
   ]
  },
  {
   "cell_type": "code",
   "execution_count": 33,
   "id": "1b6c635f",
   "metadata": {},
   "outputs": [],
   "source": [
    "df_1K.to_csv(\"reddit_1K.csv\")"
   ]
  },
  {
   "cell_type": "code",
   "execution_count": 34,
   "id": "001df3ce",
   "metadata": {},
   "outputs": [],
   "source": [
    "df2.to_csv(\"reddit_data.csv\")"
   ]
  },
  {
   "cell_type": "code",
   "execution_count": null,
   "id": "4671364e",
   "metadata": {},
   "outputs": [],
   "source": []
  }
 ],
 "metadata": {
  "kernelspec": {
   "display_name": "Python [conda env:cs375] *",
   "language": "python",
   "name": "conda-env-cs375-py"
  },
  "language_info": {
   "codemirror_mode": {
    "name": "ipython",
    "version": 3
   },
   "file_extension": ".py",
   "mimetype": "text/x-python",
   "name": "python",
   "nbconvert_exporter": "python",
   "pygments_lexer": "ipython3",
   "version": "3.8.16"
  }
 },
 "nbformat": 4,
 "nbformat_minor": 5
}
